{
 "cells": [
  {
   "cell_type": "code",
   "execution_count": 2,
   "id": "2ce11a39-f41d-408e-a67b-7a62b4e28794",
   "metadata": {},
   "outputs": [],
   "source": [
    "suppressPackageStartupMessages({\n",
    "library(dplyr)\n",
    "library(Seurat)\n",
    "library(ggplot2)\n",
    "library(org.Mm.eg.db)\n",
    "library(EnsDb.Mmusculus.v79)\n",
    "library(TxDb.Mmusculus.UCSC.mm10.ensGene)\n",
    "library(tibble)\n",
    "library(reshape2)\n",
    "library(viridis)\n",
    "library(stringr)\n",
    "})"
   ]
  },
  {
   "cell_type": "code",
   "execution_count": 3,
   "id": "b08afe45-3e57-4454-827c-7b36c95d27ff",
   "metadata": {},
   "outputs": [],
   "source": [
    "# Define functions\n",
    "\n",
    "# Set dplyr as default function for select, filter, and rename\n",
    "select <- dplyr::select\n",
    "filter <- dplyr::filter\n",
    "rename <- dplyr::rename\n",
    "\n",
    "# Pdf exporting function to maintain naming scheme for filenames\n",
    "make_pdf <- function(object, filename, w, h){\n",
    "    out_name <- paste0(format(Sys.Date(), \"%y%m%d\"),\"_\",filename,\".pdf\")\n",
    "    pdf(out_name, width=w, height=h)\n",
    "        plot(object)\n",
    "    dev.off()\n",
    "}"
   ]
  },
  {
   "cell_type": "code",
   "execution_count": 4,
   "id": "3c0cf961-ba9b-4b68-aae4-475846e691c2",
   "metadata": {},
   "outputs": [],
   "source": [
    "# Set working directory\n",
    "setwd(\"/staging/leuven/stg_00041/Ryan/RA004_XHetDel/deep_seq/data/Ryan_Allsop/zUMI_out/\")"
   ]
  },
  {
   "cell_type": "code",
   "execution_count": 5,
   "id": "730a1e27-b3b3-4a97-b384-2936d1065d22",
   "metadata": {},
   "outputs": [],
   "source": [
    "escapees <- c(\"1810030O07Rik\",\"2010000l03Rik\",\"2010308F09Rik\",\"2610029G23Rik\",\"5530601H04Rik\",\"6720401G13Rik\",\"Abcd1\",\"Araf\",\"Atp6ap2\",\"BC022960\",\"Bgn\",\"Car5b\",\"D330035K16Rik\",\"D930009K15Rik\",\"Ddx3x\",\"Eif1ax\",\"Eif2s3x\",\"Fam50a\",\"Flna\",\"Ftsj1\",\"Fundc1\",\"Gdi1\",\"Gemin8\",\"Gpkow\",\"Huwe1\",\"Idh3g\",\"Igbp1\",\"Ikbkg\",\"Kdm5c\",\"Kdm6a\",\"Lamp2\",\"Maged1\",\"Mbtps2\",\"Med14\",\"Mid1\",\"Mmgt1\",\"Mpp1\",\"Msl3\",\"Ndufb11\",\"Nkap\",\"Ogt\",\"Pbdc1\",\"Pdha1\",\"Prdx4\",\"Rbm3\",\"Renbp\",\"Sh3bgrl\",\"Shroom4\",\"Sms\",\"Suv39h1\",\"Syap1\",\"Tbc1d25\",\"Timp1\",\"Trap1a\",\"Uba1\",\"Usp9x\",\"Utp14a\",\"Uxt\",\"Xist\",\"Yipf6\")"
   ]
  },
  {
   "cell_type": "code",
   "execution_count": 6,
   "id": "15535602-0711-40ae-928e-8dd5d3105997",
   "metadata": {},
   "outputs": [],
   "source": [
    "myPalette <- list(\"#77270d\", \"#ee8866\", \"#d6c941\", \"#eedd88\", \"#aaaa00\", \"#4ed641\", \"#44bb99\", \"#41d6c9\", \"#414ed6\", \"#77aadd\", \"#AC8CC1\",\"#ffaabb\")\n",
    "names(myPalette) <- c(\"bold_red\", \"red\", \"bold_yellow\", \"yellow\", \"bold_green\", \"green\", \"bold_cyan\", \"cyan\", \"bold_blue\", \"blue\", \"bold_magenta\", \"magenta\")"
   ]
  },
  {
   "cell_type": "code",
   "execution_count": 7,
   "id": "478ecdd8-0597-49d8-8af1-9a18e2798c6e",
   "metadata": {},
   "outputs": [
    {
     "name": "stderr",
     "output_type": "stream",
     "text": [
      "'select()' returned 1:1 mapping between keys and columns\n",
      "\n"
     ]
    }
   ],
   "source": [
    "# Generate metadata tables\n",
    "gene_metadata <- left_join(\n",
    "                 AnnotationDbi::select(EnsDb.Mmusculus.v79,\n",
    "                   keys=keys(EnsDb.Mmusculus.v79, keytype=\"GENEID\"),\n",
    "                   columns=c(\"SYMBOL\",\"GENESEQSTART\", \"GENESEQEND\"),\n",
    "                   keytype=\"GENEID\"),\n",
    "                AnnotationDbi::select(TxDb.Mmusculus.UCSC.mm10.ensGene,\n",
    "                   keys=keys(TxDb.Mmusculus.UCSC.mm10.ensGene, keytype=\"GENEID\"), \n",
    "                   column=\"CDSCHROM\",\n",
    "                   keytype=\"GENEID\"),\n",
    "                by=\"GENEID\"\n",
    "            )"
   ]
  },
  {
   "cell_type": "code",
   "execution_count": 8,
   "id": "ccadfe32-8a0e-4e58-b315-514af9895805",
   "metadata": {},
   "outputs": [],
   "source": [
    "seurat_cast <- readRDS(\"240424_Cast_seurat_obj.rds\")\n",
    "seurat_mus <- readRDS(\"240424_Mus_seurat_obj.rds\")"
   ]
  },
  {
   "cell_type": "code",
   "execution_count": 9,
   "id": "de8fd1dc-a4a8-465c-a78c-3d88ed9b2d80",
   "metadata": {},
   "outputs": [],
   "source": [
    "corrected_celltypes <- read.table(\"240424_corrected_celltype.csv\", sep=\",\")"
   ]
  },
  {
   "cell_type": "code",
   "execution_count": 10,
   "id": "7bb5eff9-e851-44e5-9eee-a20dc42702bf",
   "metadata": {},
   "outputs": [
    {
     "name": "stderr",
     "output_type": "stream",
     "text": [
      "\u001b[1m\u001b[22mJoining, by = \"GENEID\"\n",
      "\u001b[1m\u001b[22mJoining, by = \"GENEID\"\n"
     ]
    }
   ],
   "source": [
    "cast_melt <- seurat_cast@assays$UMI@counts %>%\n",
    "    as.data.frame() %>%\n",
    "    rownames_to_column(\"gene_id\") %>%\n",
    "    mutate(GENEID=gsub(\"\\\\.[0-9]+$\", \"\", .$gene_id)) %>%\n",
    "    left_join(gene_metadata) %>%\n",
    "    filter(CDSCHROM %in% c(unlist(lapply(1:19, function(x){paste0(\"chr\",x)})), \"chrX\", \"chrY\")) %>%\n",
    "    mutate(GENELENGTH=GENESEQEND-GENESEQSTART) %>%\n",
    "    melt(id.vars = c(\"gene_id\", \"GENEID\", \"SYMBOL\", \"GENESEQSTART\", \"GENESEQEND\", \"CDSCHROM\", \"GENELENGTH\")) %>%\n",
    "    select(-gene_id) %>%\n",
    "    rename(Well_cell_line=variable) %>%\n",
    "    mutate(Cell_type=gsub(pattern = \"[A-Z][0-9]{1,2}_\", replacement = \"\", x=.$Well_cell_line)) %>%\n",
    "    dplyr::rename(Cast=value)\n",
    "\n",
    "mus_melt <- seurat_mus@assays$UMI@counts %>%\n",
    "    as.data.frame() %>%\n",
    "    rownames_to_column(\"gene_id\") %>%\n",
    "    mutate(GENEID=gsub(\"\\\\.[0-9]+$\", \"\", .$gene_id)) %>%\n",
    "    left_join(gene_metadata) %>%\n",
    "    filter(CDSCHROM %in% c(unlist(lapply(1:19, function(x){paste0(\"chr\",x)})), \"chrX\", \"chrY\")) %>%\n",
    "    mutate(GENELENGTH=GENESEQEND-GENESEQSTART) %>%\n",
    "    melt(id.vars = c(\"gene_id\", \"GENEID\", \"SYMBOL\", \"GENESEQSTART\", \"GENESEQEND\", \"CDSCHROM\", \"GENELENGTH\")) %>%\n",
    "    select(-gene_id) %>%\n",
    "    rename(Well_cell_line=variable) %>%\n",
    "    mutate(Cell_type=gsub(pattern = \"[A-Z][0-9]{1,2}_\", replacement = \"\", x=.$Well_cell_line)) %>%\n",
    "    dplyr::rename(Mus=value)"
   ]
  },
  {
   "cell_type": "code",
   "execution_count": 11,
   "id": "ab6df75b-1c74-4c9b-acc9-eec0c0274fd3",
   "metadata": {},
   "outputs": [
    {
     "name": "stderr",
     "output_type": "stream",
     "text": [
      "\u001b[1m\u001b[22mJoining, by = c(\"GENEID\", \"SYMBOL\", \"GENESEQSTART\", \"GENESEQEND\", \"CDSCHROM\", \"GENELENGTH\", \"Well_cell_line\", \"Cell_type\")\n",
      "\u001b[1m\u001b[22mJoining, by = \"Well_cell_line\"\n",
      "\u001b[1m\u001b[22mJoining, by = \"Well_cell_line\"\n"
     ]
    },
    {
     "data": {
      "text/html": [
       "<table class=\"dataframe\">\n",
       "<caption>A data.frame: 6 × 20</caption>\n",
       "<thead>\n",
       "\t<tr><th></th><th scope=col>GENEID</th><th scope=col>SYMBOL</th><th scope=col>GENESEQSTART</th><th scope=col>GENESEQEND</th><th scope=col>CDSCHROM</th><th scope=col>GENELENGTH</th><th scope=col>Well_cell_line</th><th scope=col>Cast</th><th scope=col>Mus</th><th scope=col>total_counts</th><th scope=col>RPK_total</th><th scope=col>RPK_cast</th><th scope=col>RPK_mus</th><th scope=col>scaling_factor_total</th><th scope=col>scaling_factor_cast</th><th scope=col>scaling_factor_mus</th><th scope=col>TPM_total</th><th scope=col>TPM_cast</th><th scope=col>TPM_mus</th><th scope=col>Cell_type</th></tr>\n",
       "\t<tr><th></th><th scope=col>&lt;chr&gt;</th><th scope=col>&lt;chr&gt;</th><th scope=col>&lt;int&gt;</th><th scope=col>&lt;int&gt;</th><th scope=col>&lt;chr&gt;</th><th scope=col>&lt;int&gt;</th><th scope=col>&lt;chr&gt;</th><th scope=col>&lt;dbl&gt;</th><th scope=col>&lt;dbl&gt;</th><th scope=col>&lt;dbl&gt;</th><th scope=col>&lt;dbl&gt;</th><th scope=col>&lt;dbl&gt;</th><th scope=col>&lt;dbl&gt;</th><th scope=col>&lt;dbl&gt;</th><th scope=col>&lt;dbl&gt;</th><th scope=col>&lt;dbl&gt;</th><th scope=col>&lt;dbl&gt;</th><th scope=col>&lt;dbl&gt;</th><th scope=col>&lt;dbl&gt;</th><th scope=col>&lt;chr&gt;</th></tr>\n",
       "</thead>\n",
       "<tbody>\n",
       "\t<tr><th scope=row>1</th><td>ENSMUSG00000000001</td><td>Gnai3</td><td>108107280</td><td>108146146</td><td>chr3 </td><td> 38866</td><td>J9_XY</td><td>1</td><td>1</td><td>2</td><td>5.145886e-05</td><td>2.572943e-05</td><td>2.572943e-05</td><td>1.136715e-05</td><td>5.834961e-06</td><td>5.532191e-06</td><td> 4.5269789</td><td>2.263489</td><td>2.2634895</td><td>XMusY</td></tr>\n",
       "\t<tr><th scope=row>2</th><td>ENSMUSG00000000028</td><td>Cdc45</td><td> 18780447</td><td> 18811987</td><td>chr16</td><td> 31540</td><td>J9_XY</td><td>0</td><td>0</td><td>0</td><td>0.000000e+00</td><td>0.000000e+00</td><td>0.000000e+00</td><td>1.136715e-05</td><td>5.834961e-06</td><td>5.532191e-06</td><td> 0.0000000</td><td>0.000000</td><td>0.0000000</td><td>XMusY</td></tr>\n",
       "\t<tr><th scope=row>3</th><td>ENSMUSG00000000037</td><td>Scml2</td><td>161117193</td><td>161258213</td><td>chrX </td><td>141020</td><td>J9_XY</td><td>0</td><td>0</td><td>0</td><td>0.000000e+00</td><td>0.000000e+00</td><td>0.000000e+00</td><td>1.136715e-05</td><td>5.834961e-06</td><td>5.532191e-06</td><td> 0.0000000</td><td>0.000000</td><td>0.0000000</td><td>XMusY</td></tr>\n",
       "\t<tr><th scope=row>4</th><td>ENSMUSG00000000056</td><td>Narf </td><td>121237253</td><td>121255856</td><td>chr11</td><td> 18603</td><td>J9_XY</td><td>0</td><td>0</td><td>0</td><td>0.000000e+00</td><td>0.000000e+00</td><td>0.000000e+00</td><td>1.136715e-05</td><td>5.834961e-06</td><td>5.532191e-06</td><td> 0.0000000</td><td>0.000000</td><td>0.0000000</td><td>XMusY</td></tr>\n",
       "\t<tr><th scope=row>5</th><td>ENSMUSG00000000078</td><td>Klf6 </td><td>  5861489</td><td>  5870393</td><td>chr13</td><td>  8904</td><td>J9_XY</td><td>1</td><td>1</td><td>2</td><td>2.246181e-04</td><td>1.123091e-04</td><td>1.123091e-04</td><td>1.136715e-05</td><td>5.834961e-06</td><td>5.532191e-06</td><td>19.7602834</td><td>9.880142</td><td>9.8801417</td><td>XMusY</td></tr>\n",
       "\t<tr><th scope=row>6</th><td>ENSMUSG00000000085</td><td>Scmh1</td><td>120405281</td><td>120530186</td><td>chr4 </td><td>124905</td><td>J9_XY</td><td>0</td><td>1</td><td>1</td><td>8.006085e-06</td><td>0.000000e+00</td><td>8.006085e-06</td><td>1.136715e-05</td><td>5.834961e-06</td><td>5.532191e-06</td><td> 0.7043175</td><td>0.000000</td><td>0.7043175</td><td>XMusY</td></tr>\n",
       "</tbody>\n",
       "</table>\n"
      ],
      "text/latex": [
       "A data.frame: 6 × 20\n",
       "\\begin{tabular}{r|llllllllllllllllllll}\n",
       "  & GENEID & SYMBOL & GENESEQSTART & GENESEQEND & CDSCHROM & GENELENGTH & Well\\_cell\\_line & Cast & Mus & total\\_counts & RPK\\_total & RPK\\_cast & RPK\\_mus & scaling\\_factor\\_total & scaling\\_factor\\_cast & scaling\\_factor\\_mus & TPM\\_total & TPM\\_cast & TPM\\_mus & Cell\\_type\\\\\n",
       "  & <chr> & <chr> & <int> & <int> & <chr> & <int> & <chr> & <dbl> & <dbl> & <dbl> & <dbl> & <dbl> & <dbl> & <dbl> & <dbl> & <dbl> & <dbl> & <dbl> & <dbl> & <chr>\\\\\n",
       "\\hline\n",
       "\t1 & ENSMUSG00000000001 & Gnai3 & 108107280 & 108146146 & chr3  &  38866 & J9\\_XY & 1 & 1 & 2 & 5.145886e-05 & 2.572943e-05 & 2.572943e-05 & 1.136715e-05 & 5.834961e-06 & 5.532191e-06 &  4.5269789 & 2.263489 & 2.2634895 & XMusY\\\\\n",
       "\t2 & ENSMUSG00000000028 & Cdc45 &  18780447 &  18811987 & chr16 &  31540 & J9\\_XY & 0 & 0 & 0 & 0.000000e+00 & 0.000000e+00 & 0.000000e+00 & 1.136715e-05 & 5.834961e-06 & 5.532191e-06 &  0.0000000 & 0.000000 & 0.0000000 & XMusY\\\\\n",
       "\t3 & ENSMUSG00000000037 & Scml2 & 161117193 & 161258213 & chrX  & 141020 & J9\\_XY & 0 & 0 & 0 & 0.000000e+00 & 0.000000e+00 & 0.000000e+00 & 1.136715e-05 & 5.834961e-06 & 5.532191e-06 &  0.0000000 & 0.000000 & 0.0000000 & XMusY\\\\\n",
       "\t4 & ENSMUSG00000000056 & Narf  & 121237253 & 121255856 & chr11 &  18603 & J9\\_XY & 0 & 0 & 0 & 0.000000e+00 & 0.000000e+00 & 0.000000e+00 & 1.136715e-05 & 5.834961e-06 & 5.532191e-06 &  0.0000000 & 0.000000 & 0.0000000 & XMusY\\\\\n",
       "\t5 & ENSMUSG00000000078 & Klf6  &   5861489 &   5870393 & chr13 &   8904 & J9\\_XY & 1 & 1 & 2 & 2.246181e-04 & 1.123091e-04 & 1.123091e-04 & 1.136715e-05 & 5.834961e-06 & 5.532191e-06 & 19.7602834 & 9.880142 & 9.8801417 & XMusY\\\\\n",
       "\t6 & ENSMUSG00000000085 & Scmh1 & 120405281 & 120530186 & chr4  & 124905 & J9\\_XY & 0 & 1 & 1 & 8.006085e-06 & 0.000000e+00 & 8.006085e-06 & 1.136715e-05 & 5.834961e-06 & 5.532191e-06 &  0.7043175 & 0.000000 & 0.7043175 & XMusY\\\\\n",
       "\\end{tabular}\n"
      ],
      "text/markdown": [
       "\n",
       "A data.frame: 6 × 20\n",
       "\n",
       "| <!--/--> | GENEID &lt;chr&gt; | SYMBOL &lt;chr&gt; | GENESEQSTART &lt;int&gt; | GENESEQEND &lt;int&gt; | CDSCHROM &lt;chr&gt; | GENELENGTH &lt;int&gt; | Well_cell_line &lt;chr&gt; | Cast &lt;dbl&gt; | Mus &lt;dbl&gt; | total_counts &lt;dbl&gt; | RPK_total &lt;dbl&gt; | RPK_cast &lt;dbl&gt; | RPK_mus &lt;dbl&gt; | scaling_factor_total &lt;dbl&gt; | scaling_factor_cast &lt;dbl&gt; | scaling_factor_mus &lt;dbl&gt; | TPM_total &lt;dbl&gt; | TPM_cast &lt;dbl&gt; | TPM_mus &lt;dbl&gt; | Cell_type &lt;chr&gt; |\n",
       "|---|---|---|---|---|---|---|---|---|---|---|---|---|---|---|---|---|---|---|---|---|\n",
       "| 1 | ENSMUSG00000000001 | Gnai3 | 108107280 | 108146146 | chr3  |  38866 | J9_XY | 1 | 1 | 2 | 5.145886e-05 | 2.572943e-05 | 2.572943e-05 | 1.136715e-05 | 5.834961e-06 | 5.532191e-06 |  4.5269789 | 2.263489 | 2.2634895 | XMusY |\n",
       "| 2 | ENSMUSG00000000028 | Cdc45 |  18780447 |  18811987 | chr16 |  31540 | J9_XY | 0 | 0 | 0 | 0.000000e+00 | 0.000000e+00 | 0.000000e+00 | 1.136715e-05 | 5.834961e-06 | 5.532191e-06 |  0.0000000 | 0.000000 | 0.0000000 | XMusY |\n",
       "| 3 | ENSMUSG00000000037 | Scml2 | 161117193 | 161258213 | chrX  | 141020 | J9_XY | 0 | 0 | 0 | 0.000000e+00 | 0.000000e+00 | 0.000000e+00 | 1.136715e-05 | 5.834961e-06 | 5.532191e-06 |  0.0000000 | 0.000000 | 0.0000000 | XMusY |\n",
       "| 4 | ENSMUSG00000000056 | Narf  | 121237253 | 121255856 | chr11 |  18603 | J9_XY | 0 | 0 | 0 | 0.000000e+00 | 0.000000e+00 | 0.000000e+00 | 1.136715e-05 | 5.834961e-06 | 5.532191e-06 |  0.0000000 | 0.000000 | 0.0000000 | XMusY |\n",
       "| 5 | ENSMUSG00000000078 | Klf6  |   5861489 |   5870393 | chr13 |   8904 | J9_XY | 1 | 1 | 2 | 2.246181e-04 | 1.123091e-04 | 1.123091e-04 | 1.136715e-05 | 5.834961e-06 | 5.532191e-06 | 19.7602834 | 9.880142 | 9.8801417 | XMusY |\n",
       "| 6 | ENSMUSG00000000085 | Scmh1 | 120405281 | 120530186 | chr4  | 124905 | J9_XY | 0 | 1 | 1 | 8.006085e-06 | 0.000000e+00 | 8.006085e-06 | 1.136715e-05 | 5.834961e-06 | 5.532191e-06 |  0.7043175 | 0.000000 | 0.7043175 | XMusY |\n",
       "\n"
      ],
      "text/plain": [
       "  GENEID             SYMBOL GENESEQSTART GENESEQEND CDSCHROM GENELENGTH\n",
       "1 ENSMUSG00000000001 Gnai3  108107280    108146146  chr3      38866    \n",
       "2 ENSMUSG00000000028 Cdc45   18780447     18811987  chr16     31540    \n",
       "3 ENSMUSG00000000037 Scml2  161117193    161258213  chrX     141020    \n",
       "4 ENSMUSG00000000056 Narf   121237253    121255856  chr11     18603    \n",
       "5 ENSMUSG00000000078 Klf6     5861489      5870393  chr13      8904    \n",
       "6 ENSMUSG00000000085 Scmh1  120405281    120530186  chr4     124905    \n",
       "  Well_cell_line Cast Mus total_counts RPK_total    RPK_cast     RPK_mus     \n",
       "1 J9_XY          1    1   2            5.145886e-05 2.572943e-05 2.572943e-05\n",
       "2 J9_XY          0    0   0            0.000000e+00 0.000000e+00 0.000000e+00\n",
       "3 J9_XY          0    0   0            0.000000e+00 0.000000e+00 0.000000e+00\n",
       "4 J9_XY          0    0   0            0.000000e+00 0.000000e+00 0.000000e+00\n",
       "5 J9_XY          1    1   2            2.246181e-04 1.123091e-04 1.123091e-04\n",
       "6 J9_XY          0    1   1            8.006085e-06 0.000000e+00 8.006085e-06\n",
       "  scaling_factor_total scaling_factor_cast scaling_factor_mus TPM_total \n",
       "1 1.136715e-05         5.834961e-06        5.532191e-06        4.5269789\n",
       "2 1.136715e-05         5.834961e-06        5.532191e-06        0.0000000\n",
       "3 1.136715e-05         5.834961e-06        5.532191e-06        0.0000000\n",
       "4 1.136715e-05         5.834961e-06        5.532191e-06        0.0000000\n",
       "5 1.136715e-05         5.834961e-06        5.532191e-06       19.7602834\n",
       "6 1.136715e-05         5.834961e-06        5.532191e-06        0.7043175\n",
       "  TPM_cast TPM_mus   Cell_type\n",
       "1 2.263489 2.2634895 XMusY    \n",
       "2 0.000000 0.0000000 XMusY    \n",
       "3 0.000000 0.0000000 XMusY    \n",
       "4 0.000000 0.0000000 XMusY    \n",
       "5 9.880142 9.8801417 XMusY    \n",
       "6 0.000000 0.7043175 XMusY    "
      ]
     },
     "metadata": {},
     "output_type": "display_data"
    }
   ],
   "source": [
    "counts_melt <- left_join(cast_melt, mus_melt) %>% \n",
    "    mutate(total_counts=Cast+Mus) %>%\n",
    "    mutate(RPK_total=total_counts/GENELENGTH,\n",
    "           RPK_cast=Cast/GENELENGTH,\n",
    "           RPK_mus=Mus/GENELENGTH) %>%\n",
    "    left_join(summarize(group_by(., Well_cell_line),\n",
    "                        scaling_factor_total=(sum(na.omit(RPK_total))/1e6),\n",
    "                        scaling_factor_cast=(sum(na.omit(RPK_cast))/1e6),\n",
    "                        scaling_factor_mus=(sum(na.omit(RPK_mus))/1e6))) %>%\n",
    "    mutate(TPM_total=RPK_total/scaling_factor_total,\n",
    "           TPM_cast=RPK_cast/scaling_factor_total,\n",
    "           TPM_mus=RPK_mus/scaling_factor_total) %>%\n",
    "    left_join(corrected_celltypes[,c(\"Well_cell_line\", \"new_cell_type\")]) %>%\n",
    "    select(-Cell_type) %>%\n",
    "    rename(Cell_type=new_cell_type)\n",
    "\n",
    "counts_melt %>% head"
   ]
  },
  {
   "cell_type": "code",
   "execution_count": 12,
   "id": "f4a6e00e-9c1d-4260-bec2-1d22bbc2837d",
   "metadata": {},
   "outputs": [],
   "source": [
    "rm(seurat_cast)\n",
    "rm(seurat_mus)\n",
    "rm(cast_melt)\n",
    "rm(mus_melt)"
   ]
  },
  {
   "cell_type": "code",
   "execution_count": 13,
   "id": "63a359e2-f8dd-4b6d-93d7-a2f9fa9d3ef2",
   "metadata": {},
   "outputs": [
    {
     "name": "stderr",
     "output_type": "stream",
     "text": [
      "\u001b[1m\u001b[22m`summarise()` has grouped output by 'GENEID'. You can override using the `.groups` argument.\n",
      "Using meanVal as value column: use value.var to override.\n",
      "\n"
     ]
    },
    {
     "data": {
      "text/html": [
       "<table class=\"dataframe\">\n",
       "<caption>A data.frame: 6 × 8</caption>\n",
       "<thead>\n",
       "\t<tr><th></th><th scope=col>Deletion 1</th><th scope=col>Deletion 2</th><th scope=col>Deletion 3</th><th scope=col>XCastOMus</th><th scope=col>XMusOCast</th><th scope=col>XMusY</th><th scope=col>XX</th><th scope=col>NA</th></tr>\n",
       "\t<tr><th></th><th scope=col>&lt;dbl&gt;</th><th scope=col>&lt;dbl&gt;</th><th scope=col>&lt;dbl&gt;</th><th scope=col>&lt;dbl&gt;</th><th scope=col>&lt;dbl&gt;</th><th scope=col>&lt;dbl&gt;</th><th scope=col>&lt;dbl&gt;</th><th scope=col>&lt;dbl&gt;</th></tr>\n",
       "</thead>\n",
       "<tbody>\n",
       "\t<tr><th scope=row>ENSMUSG00000000001</th><td>10.5016906</td><td>9.6933304</td><td>9.922688</td><td>14.1087779</td><td>13.4188291</td><td>13.2291052</td><td>11.6601002</td><td>22.988691</td></tr>\n",
       "\t<tr><th scope=row>ENSMUSG00000000028</th><td> 3.6829902</td><td>4.3609814</td><td>4.007067</td><td> 3.9572238</td><td> 8.5474723</td><td> 4.1783030</td><td> 5.5872938</td><td> 7.082106</td></tr>\n",
       "\t<tr><th scope=row>ENSMUSG00000000056</th><td> 5.2533007</td><td>4.1711947</td><td>3.442884</td><td> 3.2649030</td><td> 4.9663048</td><td> 4.0116067</td><td> 3.6334665</td><td> 0.000000</td></tr>\n",
       "\t<tr><th scope=row>ENSMUSG00000000058</th><td> 0.2676866</td><td>0.1431354</td><td>0.000000</td><td> 0.0000000</td><td> 0.0000000</td><td>       NaN</td><td> 0.0000000</td><td> 0.000000</td></tr>\n",
       "\t<tr><th scope=row>ENSMUSG00000000078</th><td>12.0124521</td><td>4.0866862</td><td>4.819725</td><td> 8.2803765</td><td> 3.0265187</td><td>12.4377530</td><td> 6.8156951</td><td> 0.000000</td></tr>\n",
       "\t<tr><th scope=row>ENSMUSG00000000085</th><td> 0.3594588</td><td>0.7557649</td><td>0.934453</td><td> 0.4872625</td><td> 0.4391556</td><td> 0.5428513</td><td> 0.6247553</td><td> 1.788316</td></tr>\n",
       "</tbody>\n",
       "</table>\n"
      ],
      "text/latex": [
       "A data.frame: 6 × 8\n",
       "\\begin{tabular}{r|llllllll}\n",
       "  & Deletion 1 & Deletion 2 & Deletion 3 & XCastOMus & XMusOCast & XMusY & XX & NA\\\\\n",
       "  & <dbl> & <dbl> & <dbl> & <dbl> & <dbl> & <dbl> & <dbl> & <dbl>\\\\\n",
       "\\hline\n",
       "\tENSMUSG00000000001 & 10.5016906 & 9.6933304 & 9.922688 & 14.1087779 & 13.4188291 & 13.2291052 & 11.6601002 & 22.988691\\\\\n",
       "\tENSMUSG00000000028 &  3.6829902 & 4.3609814 & 4.007067 &  3.9572238 &  8.5474723 &  4.1783030 &  5.5872938 &  7.082106\\\\\n",
       "\tENSMUSG00000000056 &  5.2533007 & 4.1711947 & 3.442884 &  3.2649030 &  4.9663048 &  4.0116067 &  3.6334665 &  0.000000\\\\\n",
       "\tENSMUSG00000000058 &  0.2676866 & 0.1431354 & 0.000000 &  0.0000000 &  0.0000000 &        NaN &  0.0000000 &  0.000000\\\\\n",
       "\tENSMUSG00000000078 & 12.0124521 & 4.0866862 & 4.819725 &  8.2803765 &  3.0265187 & 12.4377530 &  6.8156951 &  0.000000\\\\\n",
       "\tENSMUSG00000000085 &  0.3594588 & 0.7557649 & 0.934453 &  0.4872625 &  0.4391556 &  0.5428513 &  0.6247553 &  1.788316\\\\\n",
       "\\end{tabular}\n"
      ],
      "text/markdown": [
       "\n",
       "A data.frame: 6 × 8\n",
       "\n",
       "| <!--/--> | Deletion 1 &lt;dbl&gt; | Deletion 2 &lt;dbl&gt; | Deletion 3 &lt;dbl&gt; | XCastOMus &lt;dbl&gt; | XMusOCast &lt;dbl&gt; | XMusY &lt;dbl&gt; | XX &lt;dbl&gt; | NA &lt;dbl&gt; |\n",
       "|---|---|---|---|---|---|---|---|---|\n",
       "| ENSMUSG00000000001 | 10.5016906 | 9.6933304 | 9.922688 | 14.1087779 | 13.4188291 | 13.2291052 | 11.6601002 | 22.988691 |\n",
       "| ENSMUSG00000000028 |  3.6829902 | 4.3609814 | 4.007067 |  3.9572238 |  8.5474723 |  4.1783030 |  5.5872938 |  7.082106 |\n",
       "| ENSMUSG00000000056 |  5.2533007 | 4.1711947 | 3.442884 |  3.2649030 |  4.9663048 |  4.0116067 |  3.6334665 |  0.000000 |\n",
       "| ENSMUSG00000000058 |  0.2676866 | 0.1431354 | 0.000000 |  0.0000000 |  0.0000000 |        NaN |  0.0000000 |  0.000000 |\n",
       "| ENSMUSG00000000078 | 12.0124521 | 4.0866862 | 4.819725 |  8.2803765 |  3.0265187 | 12.4377530 |  6.8156951 |  0.000000 |\n",
       "| ENSMUSG00000000085 |  0.3594588 | 0.7557649 | 0.934453 |  0.4872625 |  0.4391556 |  0.5428513 |  0.6247553 |  1.788316 |\n",
       "\n"
      ],
      "text/plain": [
       "                   Deletion 1 Deletion 2 Deletion 3 XCastOMus  XMusOCast \n",
       "ENSMUSG00000000001 10.5016906 9.6933304  9.922688   14.1087779 13.4188291\n",
       "ENSMUSG00000000028  3.6829902 4.3609814  4.007067    3.9572238  8.5474723\n",
       "ENSMUSG00000000056  5.2533007 4.1711947  3.442884    3.2649030  4.9663048\n",
       "ENSMUSG00000000058  0.2676866 0.1431354  0.000000    0.0000000  0.0000000\n",
       "ENSMUSG00000000078 12.0124521 4.0866862  4.819725    8.2803765  3.0265187\n",
       "ENSMUSG00000000085  0.3594588 0.7557649  0.934453    0.4872625  0.4391556\n",
       "                   XMusY      XX         NA       \n",
       "ENSMUSG00000000001 13.2291052 11.6601002 22.988691\n",
       "ENSMUSG00000000028  4.1783030  5.5872938  7.082106\n",
       "ENSMUSG00000000056  4.0116067  3.6334665  0.000000\n",
       "ENSMUSG00000000058        NaN  0.0000000  0.000000\n",
       "ENSMUSG00000000078 12.4377530  6.8156951  0.000000\n",
       "ENSMUSG00000000085  0.5428513  0.6247553  1.788316"
      ]
     },
     "metadata": {},
     "output_type": "display_data"
    }
   ],
   "source": [
    "non_allelic_counts <- counts_melt %>%\n",
    "    select(GENEID, Well_cell_line, Cell_type, TPM_cast, TPM_mus, TPM_total, CDSCHROM) %>%\n",
    "    filter(CDSCHROM %in% unlist(lapply(1:19, function(x){paste0(\"chr\",x)}))) %>%\n",
    "    group_by(GENEID, Cell_type) %>%\n",
    "    summarize(meanVal=mean(TPM_total, na.rm=TRUE)) %>%\n",
    "    dcast(GENEID~Cell_type) %>%\n",
    "    column_to_rownames(\"GENEID\")\n",
    "non_allelic_counts %>% head"
   ]
  },
  {
   "cell_type": "code",
   "execution_count": 13,
   "id": "fc707f88-30e1-4ba2-a7d8-0635c2e6ddfc",
   "metadata": {},
   "outputs": [],
   "source": [
    "correlation_plot_data <- melt(cor(na.omit(non_allelic_counts))) %>%\n",
    "    mutate(xpos=case_when(Var1==\"XX\" ~ 1,\n",
    "                          Var1==\"XCastOMus\" ~ 2,\n",
    "                          Var1==\"XMusOCast\" ~ 3,\n",
    "                          Var1==\"XMusY\" ~ 4,\n",
    "                          Var1==\"Deletion 1\" ~ 5,\n",
    "                          Var1==\"Deletion 2\" ~ 6,\n",
    "                          Var1==\"Deletion 3\" ~ 7),\n",
    "           ypos=case_when(Var2==\"XX\" ~ 7,\n",
    "                          Var2==\"XCastOMus\" ~ 6,\n",
    "                          Var2==\"XMusOCast\" ~ 5,\n",
    "                          Var2==\"XMusY\" ~ 4,\n",
    "                          Var2==\"Deletion 1\" ~ 3,\n",
    "                          Var2==\"Deletion 2\" ~ 2,\n",
    "                          Var2==\"Deletion 3\" ~ 1)) %>%\n",
    "    mutate(value=as.double(sprintf(\"%.2f\", value)))"
   ]
  },
  {
   "cell_type": "code",
   "execution_count": 14,
   "id": "314c5299-2e01-4e9c-815d-f03cda749b76",
   "metadata": {},
   "outputs": [],
   "source": [
    "options(repr.plot.width=3, repr.plot.height=2.5)\n",
    "correlation_plot <- ggplot(correlation_plot_data) +\n",
    "    geom_rect(aes(xmin=xpos-0.5, xmax=xpos+0.5, ymin=ypos-0.5, ymax=ypos+0.5, fill=value)) +\n",
    "    scale_fill_viridis(limits=c(0.75,1), option=\"H\", name=\"Correlation\\ncoefficients\") +\n",
    "    geom_text(aes(label=value, x=xpos, y=ypos), color=\"white\", size=7*0.352777778) +\n",
    "    geom_text(data=unique(correlation_plot_data[,c(\"xpos\", \"Var1\")]), aes(y=7.75, x=xpos, label=Var1), \n",
    "              angle=45, \n",
    "              hjust=0, \n",
    "              size=7*0.352777778) +\n",
    "    geom_text(data=unique(correlation_plot_data[,c(\"ypos\", \"Var2\")]), aes(x=0.25, y=ypos, label=Var2),\n",
    "              hjust=1,\n",
    "              size=7*0.352777778) +\n",
    "    coord_cartesian(clip=\"off\") +\n",
    "    theme_void() +\n",
    "    theme(legend.title=element_text(size=7), legend.text=element_text(size=7))"
   ]
  },
  {
   "cell_type": "code",
   "execution_count": 15,
   "id": "88601f60-dff8-4140-9ed5-baf9121478e8",
   "metadata": {},
   "outputs": [
    {
     "name": "stderr",
     "output_type": "stream",
     "text": [
      "Warning message:\n",
      "\"\u001b[1m\u001b[22mRemoved 15 rows containing missing values (`geom_rect()`).\"\n",
      "Warning message:\n",
      "\"\u001b[1m\u001b[22mRemoved 15 rows containing missing values (`geom_text()`).\"\n",
      "Warning message:\n",
      "\"\u001b[1m\u001b[22mRemoved 1 rows containing missing values (`geom_text()`).\"\n",
      "Warning message:\n",
      "\"\u001b[1m\u001b[22mRemoved 1 rows containing missing values (`geom_text()`).\"\n"
     ]
    },
    {
     "data": {
      "image/png": "[encoded data removed]",
      "text/plain": [
       "plot without title"
      ]
     },
     "metadata": {
      "image/png": {
       "height": 150,
       "width": 180
      }
     },
     "output_type": "display_data"
    }
   ],
   "source": [
    "correlation_plot"
   ]
  },
  {
   "cell_type": "code",
   "execution_count": 19,
   "id": "383c44e2-97ab-4174-8e45-bd5510bcf5a2",
   "metadata": {},
   "outputs": [
    {
     "name": "stderr",
     "output_type": "stream",
     "text": [
      "Warning message:\n",
      "\"\u001b[1m\u001b[22mRemoved 15 rows containing missing values (`geom_rect()`).\"\n",
      "Warning message:\n",
      "\"\u001b[1m\u001b[22mRemoved 15 rows containing missing values (`geom_text()`).\"\n",
      "Warning message:\n",
      "\"\u001b[1m\u001b[22mRemoved 1 rows containing missing values (`geom_text()`).\"\n",
      "Warning message:\n",
      "\"\u001b[1m\u001b[22mRemoved 1 rows containing missing values (`geom_text()`).\"\n"
     ]
    },
    {
     "data": {
      "text/html": [
       "<strong>png:</strong> 2"
      ],
      "text/latex": [
       "\\textbf{png:} 2"
      ],
      "text/markdown": [
       "**png:** 2"
      ],
      "text/plain": [
       "png \n",
       "  2 "
      ]
     },
     "metadata": {},
     "output_type": "display_data"
    }
   ],
   "source": [
    "make_pdf(correlation_plot, \"corr_plot\", w=2.5, h=2.5)"
   ]
  }
 ],
 "metadata": {
  "kernelspec": {
   "display_name": "R [conda env:R_XCU]",
   "language": "R",
   "name": "conda-env-R_XCU-r"
  },
  "language_info": {
   "codemirror_mode": "r",
   "file_extension": ".r",
   "mimetype": "text/x-r-source",
   "name": "R",
   "pygments_lexer": "r",
   "version": "4.2.2"
  }
 },
 "nbformat": 4,
 "nbformat_minor": 5
}
