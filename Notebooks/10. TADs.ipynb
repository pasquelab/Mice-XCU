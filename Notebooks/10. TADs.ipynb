{
 "cells": [
  {
   "cell_type": "code",
   "execution_count": 1,
   "id": "3cd35570-c0f3-48f6-aca4-904cac31ed08",
   "metadata": {},
   "outputs": [],
   "source": [
    "suppressPackageStartupMessages({\n",
    "library(dplyr)\n",
    "library(ggplot2)\n",
    "})"
   ]
  },
  {
   "cell_type": "code",
   "execution_count": 13,
   "id": "66245f13-fb8c-483a-ae43-ec259b3b6e18",
   "metadata": {},
   "outputs": [],
   "source": [
    "make_pdf <- function(object, filename, w, h){\n",
    "    out_name <- paste0(format(Sys.Date(), \"%y%m%d\"),\"_\",filename,\".pdf\")\n",
    "    pdf(out_name, width=w, height=h)\n",
    "        plot(object)\n",
    "    dev.off()\n",
    "}"
   ]
  },
  {
   "cell_type": "code",
   "execution_count": 2,
   "id": "661fd8b5-c404-4f0c-b9fe-b6b198b9be3e",
   "metadata": {},
   "outputs": [],
   "source": [
    "setwd(\"/staging/leuven/stg_00041/Ryan/RA004_XHetDel/deep_seq/data/Ryan_Allsop/zUMI_out/\")"
   ]
  },
  {
   "cell_type": "code",
   "execution_count": 9,
   "id": "cf8e8ac8-a903-4297-9269-ba7a681435df",
   "metadata": {},
   "outputs": [],
   "source": [
    "deletion_metadata <- read.table(\"/staging/leuven/stg_00041/Ryan/RA004_XHetDel/240904_deletion_metadata.csv\", \n",
    "                                header = TRUE, \n",
    "                                sep=\",\", \n",
    "                                colClasses = c(\"factor\",\n",
    "                                               \"integer\", \n",
    "                                               \"integer\")) %>%\n",
    "    mutate(y_height=c(2, #1\n",
    "                      2, #2\n",
    "                      2, #3\n",
    "                      0, # A\n",
    "                      0, # B\n",
    "                      1, # AB\n",
    "                      0, # C\n",
    "                      0, # D\n",
    "                      1, # C-G\n",
    "                      0, # E\n",
    "                      0, # F\n",
    "                      0, # G\n",
    "                      0, # H\n",
    "                      0, # I\n",
    "                      0, # J\n",
    "                      0, # K\n",
    "                      1)) # I-TEL\n",
    "    \n",
    "TADs <- read.table(\"240228_mESC_TADs.tsv\") #from doi:10.1038/nature11082 Table S4\n",
    "colors <- c(\"A\"=\"#772916\",\n",
    "            \"B\"=\"#D6C942\",\n",
    "            \"AB\"=\"#ED8766\",\n",
    "            \"C\"=\"#EEDE88\",\n",
    "            \"D\"=\"#A9AB36\",\n",
    "            \"C-G\"=\"#6BBE46\",\n",
    "            \"E\"=\"#CBEAF1\",\n",
    "            \"F\"=\"#5EC5BE\",\n",
    "            \"G\"=\"#06747C\",\n",
    "            \"H\"=\"#4D5BA8\",\n",
    "            \"I\"=\"#76AADB\",\n",
    "            \"J\"=\"#F7A9BB\",\n",
    "            \"K\"=\"#EF519D\",\n",
    "            \"I-TEL\"=\"#A655A1\",\n",
    "            \"1\"=\"#F6A8BA\",\n",
    "            \"2\"=\"#44BC99\",\n",
    "            \"3\"=\"#A8AA36\")"
   ]
  },
  {
   "cell_type": "code",
   "execution_count": 10,
   "id": "1988af4a-082c-4b9e-9111-c14365745b7b",
   "metadata": {},
   "outputs": [],
   "source": [
    "options(repr.plot.width=4, repr.plot.height=2)\n",
    "ExtDataFig1C <- ggplot(deletion_metadata) +\n",
    "    geom_rect(data=TADs, aes(xmin=V2, \n",
    "                             xmax=V2, \n",
    "                             ymin=0.5, \n",
    "                             ymax=0.70), \n",
    "              color=\"black\") +\n",
    "    geom_rect(data=deletion_metadata,\n",
    "              aes(xmin=Start,\n",
    "                  xmax=End,\n",
    "                  ymin=(y_height/6),\n",
    "                  ymax=(y_height/6)+0.1666,\n",
    "                  fill=Deletion),\n",
    "              inherit.aes=FALSE,\n",
    "              color=\"black\") +\n",
    "    geom_text(data=deletion_metadata,\n",
    "              aes(x=(Start+End)/2, \n",
    "                  y=(y_height/6)+0.08333, \n",
    "                  label=Deletion),\n",
    "              size=7*0.3528) +\n",
    "    scale_fill_manual(values=colors) +\n",
    "    xlim(0, 169000000) +\n",
    "    theme_void() +\n",
    "    theme(legend.position=\"none\")"
   ]
  },
  {
   "cell_type": "code",
   "execution_count": 11,
   "id": "9d3ad562-50b9-4f3d-94ce-5094ec1eab9c",
   "metadata": {},
   "outputs": [
    {
     "data": {
      "image/png": "[encoded data removed]",
      "text/plain": [
       "plot without title"
      ]
     },
     "metadata": {
      "image/png": {
       "height": 120,
       "width": 240
      }
     },
     "output_type": "display_data"
    }
   ],
   "source": [
    "ExtDataFig1C"
   ]
  },
  {
   "cell_type": "code",
   "execution_count": 15,
   "id": "869cf507-edfc-430e-85ed-6bffc94059b7",
   "metadata": {},
   "outputs": [
    {
     "data": {
      "text/html": [
       "<strong>png:</strong> 2"
      ],
      "text/latex": [
       "\\textbf{png:} 2"
      ],
      "text/markdown": [
       "**png:** 2"
      ],
      "text/plain": [
       "png \n",
       "  2 "
      ]
     },
     "metadata": {},
     "output_type": "display_data"
    }
   ],
   "source": [
    "make_pdf(ExtDataFig1C, \"tad_plot\", w=3.5, h=1)"
   ]
  }
 ],
 "metadata": {
  "kernelspec": {
   "display_name": "R_XCU",
   "language": "R",
   "name": "r_xcu"
  },
  "language_info": {
   "codemirror_mode": "r",
   "file_extension": ".r",
   "mimetype": "text/x-r-source",
   "name": "R",
   "pygments_lexer": "r",
   "version": "4.2.2"
  }
 },
 "nbformat": 4,
 "nbformat_minor": 5
}
